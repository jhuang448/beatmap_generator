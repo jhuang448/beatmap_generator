{
 "cells": [
  {
   "cell_type": "markdown",
   "metadata": {},
   "source": [
    "### osu!nn #6: Rhythm Predictor\n",
    "\n",
    "Calculates a map's rhythm from the music and the timing.\n",
    "\n",
    "Synthesis of \"rhythmData\"\n",
    "* rhythmModel x 1\n",
    "* momentumModel x 1\n",
    "* timingData x 1\n",
    "* (Music) x 1\n",
    "\n",
    "Synthesis Time: ~2 seconds\n",
    "\n",
    "Final edit: 2018/8/16"
   ]
  },
  {
   "cell_type": "code",
   "execution_count": 58,
   "metadata": {},
   "outputs": [
    {
     "name": "stdout",
     "output_type": "stream",
     "text": [
      "The autoreload extension is already loaded. To reload it, use:\n",
      "  %reload_ext autoreload\n"
     ]
    }
   ],
   "source": [
    "import tensorflow as tf\n",
    "from tensorflow import keras\n",
    "import pandas as pd\n",
    "import numpy as np\n",
    "import matplotlib.pyplot as plt\n",
    "import os, re\n",
    "from config import *\n",
    "from predict_CRNN import predict_CRNNs, read_npz_p\n",
    "\n",
    "%load_ext autoreload\n",
    "%autoreload 2"
   ]
  },
  {
   "cell_type": "code",
   "execution_count": 66,
   "metadata": {},
   "outputs": [],
   "source": [
    "osuFile = \"maps/317749 EYE_XY feat. Yoneko - Knight of Firmament/EYE_XY feat. Yoneko - Knight of Firmament (Pho) [Normal].osu\"\n",
    "model_1 = 'models/2019121/ConvLstm_Hard_batch1_lr0.001/model'\n",
    "model_2 = 'models/2019121/ConvLstm2_Hard_batch1_lr0.001/model'"
   ]
  },
  {
   "cell_type": "code",
   "execution_count": 69,
   "metadata": {
    "scrolled": true
   },
   "outputs": [
    {
     "name": "stdout",
     "output_type": "stream",
     "text": [
      "Map data saved! time = 1.0143952369689941 secs.\n",
      "88\n",
      "422\n",
      "[-0.66628945]\n",
      "421 notes predicted.\n"
     ]
    }
   ],
   "source": [
    "test_predictions, momentum_predictions_output, div_data2 = predict_CRNNs(osuFile, model_1, model_2)\n",
    "\n",
    "fn = \"mapthis.npz\";\n",
    "test_data, div_data, ticks, timestamps = read_npz_p(fn);\n",
    "\n",
    "preds = test_predictions.reshape(-1, test_predictions.shape[2]);\n",
    "\n",
    "# Favor sliders a little\n",
    "preds[:, 2] += slider_favor;\n",
    "divs = div_data2.reshape(-1, div_data2.shape[2]);\n",
    "margin = np.sum([divisor_favor[k] * divs[:, k] for k in range(0, divisor)]);\n",
    "\n",
    "preds[:, 0] += margin;\n",
    "\n",
    "# Predict is_obj using note_density\n",
    "obj_preds = preds[:, 0];\n",
    "target_count = np.round(note_density[level] * obj_preds.shape[0]).astype(int);\n",
    "print(target_count)\n",
    "borderline = np.sort(obj_preds)[obj_preds.shape - target_count];\n",
    "print(borderline)\n",
    "is_obj_pred = np.expand_dims(np.where(preds[:, 0] > borderline, 1, 0), axis=1);\n",
    "\n",
    "obj_type_pred = np.sign(preds[:, 1:4] - np.tile(np.expand_dims(np.max(preds[:, 1:4], axis=1), 1), (1, 3))) + 1;\n",
    "others_pred = (1 + np.sign(preds[:, 4:test_predictions.shape[1]] + 0.5)) / 2;\n",
    "another_pred_result = np.concatenate([is_obj_pred, is_obj_pred * obj_type_pred, others_pred], axis=1);\n",
    "\n",
    "print(\"{} notes predicted.\".format(np.sum(is_obj_pred)));"
   ]
  },
  {
   "cell_type": "code",
   "execution_count": 70,
   "metadata": {
    "scrolled": false
   },
   "outputs": [
    {
     "data": {
      "text/plain": [
       "array([[1., 0., 1., 0., 1., 0.],\n",
       "       [0., 0., 0., 0., 1., 0.],\n",
       "       [1., 1., 0., 0., 1., 0.],\n",
       "       ...,\n",
       "       [0., 0., 0., 0., 1., 0.],\n",
       "       [0., 0., 0., 0., 1., 0.],\n",
       "       [1., 1., 0., 0., 1., 0.]])"
      ]
     },
     "execution_count": 70,
     "metadata": {},
     "output_type": "execute_result"
    }
   ],
   "source": [
    "another_pred_result"
   ]
  },
  {
   "cell_type": "code",
   "execution_count": 71,
   "metadata": {},
   "outputs": [
    {
     "data": {
      "text/plain": [
       "421.0"
      ]
     },
     "execution_count": 71,
     "metadata": {},
     "output_type": "execute_result"
    }
   ],
   "source": [
    "np.sum(another_pred_result[:,0])"
   ]
  },
  {
   "cell_type": "code",
   "execution_count": 72,
   "metadata": {},
   "outputs": [],
   "source": [
    "momentum_predictions = momentum_predictions_output.reshape(-1, 2) * train_glob_std + train_glob_mean"
   ]
  },
  {
   "cell_type": "code",
   "execution_count": 73,
   "metadata": {},
   "outputs": [
    {
     "data": {
      "text/plain": [
       "array([[[-1.01526134e-01,  1.84719935e-02],\n",
       "        [-5.54305375e-01, -5.41866571e-03],\n",
       "        [-5.31912863e-01, -2.84941867e-03],\n",
       "        ...,\n",
       "        [-4.12073135e-01, -1.02596879e-02],\n",
       "        [-5.19565880e-01,  9.73902643e-05],\n",
       "        [-1.02840221e+00, -3.12030055e-02]],\n",
       "\n",
       "       [[-1.01526134e-01,  1.84719935e-02],\n",
       "        [-5.54305375e-01, -5.41866571e-03],\n",
       "        [-5.31912863e-01, -2.84941867e-03],\n",
       "        ...,\n",
       "        [-4.12073135e-01, -1.02596879e-02],\n",
       "        [-5.19565880e-01,  9.73902643e-05],\n",
       "        [-1.02840221e+00, -3.12030055e-02]],\n",
       "\n",
       "       [[-1.01526134e-01,  1.84719935e-02],\n",
       "        [-5.54305375e-01, -5.41866571e-03],\n",
       "        [-5.31912863e-01, -2.84941867e-03],\n",
       "        ...,\n",
       "        [-4.12073135e-01, -1.02596879e-02],\n",
       "        [-5.19565880e-01,  9.73902643e-05],\n",
       "        [-1.02840221e+00, -3.12030055e-02]],\n",
       "\n",
       "       ...,\n",
       "\n",
       "       [[ 4.58248965e-02,  1.76476985e-02],\n",
       "        [-2.98731685e-01,  4.49303910e-03],\n",
       "        [-4.18564528e-01,  1.88109651e-03],\n",
       "        ...,\n",
       "        [-2.25422874e-01, -2.17595696e-03],\n",
       "        [-4.27305490e-01,  4.68778610e-03],\n",
       "        [-1.00927353e+00, -2.37145834e-02]],\n",
       "\n",
       "       [[ 1.42497765e-02,  1.80955678e-02],\n",
       "        [-3.52131009e-01,  2.65948847e-03],\n",
       "        [-4.38289762e-01,  1.18402392e-03],\n",
       "        ...,\n",
       "        [-2.25473881e-01, -2.16231868e-03],\n",
       "        [-4.27368701e-01,  4.68507409e-03],\n",
       "        [-1.00914836e+00, -2.37109922e-02]],\n",
       "\n",
       "       [[ 1.42497765e-02,  1.80955678e-02],\n",
       "        [-3.52131009e-01,  2.65948847e-03],\n",
       "        [-4.38289762e-01,  1.18402392e-03],\n",
       "        ...,\n",
       "        [-3.58755589e-01, -7.98443332e-03],\n",
       "        [-5.02385676e-01,  1.24591962e-03],\n",
       "        [-1.03088701e+00, -3.53837647e-02]]], dtype=float32)"
      ]
     },
     "execution_count": 73,
     "metadata": {},
     "output_type": "execute_result"
    }
   ],
   "source": [
    "momentum_predictions_output"
   ]
  },
  {
   "cell_type": "markdown",
   "metadata": {},
   "source": [
    "Save the rhythm data and progress to #7."
   ]
  },
  {
   "cell_type": "code",
   "execution_count": 74,
   "metadata": {},
   "outputs": [],
   "source": [
    "np.savez_compressed(\"rhythm_data\", objs = is_obj_pred[:, 0], predictions = another_pred_result, timestamps = timestamps, ticks = ticks, momenta = momentum_predictions, sv = (div_data[:,6] + 1) * 150, dist_multiplier = dist_multiplier);"
   ]
  },
  {
   "cell_type": "code",
   "execution_count": 75,
   "metadata": {},
   "outputs": [],
   "source": [
    "import json\n",
    "\n",
    "rhythm_json = {\n",
    "    \"objs\": is_obj_pred[:, 0].tolist(), \n",
    "    \"predictions\": another_pred_result.tolist(),\n",
    "    \"timestamps\": timestamps.tolist(),\n",
    "    \"ticks\": ticks.tolist(),\n",
    "    \"momenta\": momentum_predictions.tolist(),\n",
    "    \"sv\": ((div_data[:,6] + 1) * 150).tolist(),\n",
    "    \"distMultiplier\": dist_multiplier\n",
    "};\n",
    "with open(\"evaluatedRhythm.json\", \"w\") as er:\n",
    "    json.dump(rhythm_json, er);"
   ]
  },
  {
   "cell_type": "code",
   "execution_count": null,
   "metadata": {},
   "outputs": [],
   "source": []
  }
 ],
 "metadata": {
  "kernelspec": {
   "display_name": "Python 3",
   "language": "python",
   "name": "python3"
  },
  "language_info": {
   "codemirror_mode": {
    "name": "ipython",
    "version": 3
   },
   "file_extension": ".py",
   "mimetype": "text/x-python",
   "name": "python",
   "nbconvert_exporter": "python",
   "pygments_lexer": "ipython3",
   "version": "3.7.2"
  }
 },
 "nbformat": 4,
 "nbformat_minor": 2
}
